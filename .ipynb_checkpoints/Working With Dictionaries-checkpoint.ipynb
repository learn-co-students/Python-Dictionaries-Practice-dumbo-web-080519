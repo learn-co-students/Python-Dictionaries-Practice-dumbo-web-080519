{
 "metadata": {
  "name": "",
  "signature": "sha256:0574a9b8a338ad599ae01e27002d39e0a21e4d09d98e436aa985c5c9301da3f7"
 },
 "nbformat": 3,
 "nbformat_minor": 0,
 "worksheets": [
  {
   "cells": [
    {
     "cell_type": "markdown",
     "metadata": {},
     "source": [
      "create a `list` with all of the winners"
     ]
    },
    {
     "cell_type": "code",
     "collapsed": false,
     "input": [
      "players = {\"Blake\":\"Winner\",\"Ashley\":\"Loser\",\"Sally\":\"Winner\"}"
     ],
     "language": "python",
     "metadata": {},
     "outputs": [],
     "prompt_number": 1
    },
    {
     "cell_type": "code",
     "collapsed": false,
     "input": [],
     "language": "python",
     "metadata": {},
     "outputs": [],
     "prompt_number": 0
    },
    {
     "cell_type": "markdown",
     "metadata": {},
     "source": []
    },
    {
     "cell_type": "code",
     "collapsed": false,
     "input": [
      "holidays = {\"winter\": {\"christmas\": [\"Lights\",\"Wreath\"],\n",
      "                       \"new years\": [\"Party Hats\"]\n",
      "                       },\n",
      "            \"summer\": {\"fourth_of_july\": [\"Fireworks\", \"BBQ\"]},\n",
      "            \"fall\": {\"thanksgiving\":[\"Turkey\"]},\n",
      "            \"spring\": {\"memorial_day\": [\"BBQ\"]}\n",
      "            }"
     ],
     "language": "python",
     "metadata": {},
     "outputs": [],
     "prompt_number": 2
    },
    {
     "cell_type": "markdown",
     "metadata": {},
     "source": [
      "Write code that returns the second supply for the Fourth of July"
     ]
    },
    {
     "cell_type": "code",
     "collapsed": false,
     "input": [],
     "language": "python",
     "metadata": {},
     "outputs": []
    },
    {
     "cell_type": "markdown",
     "metadata": {},
     "source": [
      "Write code that adds a `sled` supply to all Winter holidays"
     ]
    },
    {
     "cell_type": "code",
     "collapsed": false,
     "input": [],
     "language": "python",
     "metadata": {},
     "outputs": []
    },
    {
     "cell_type": "markdown",
     "metadata": {},
     "source": [
      "Write code that adds a new holiday (`Valentines Day`) and its associated supplies (`Cupid Cut-Out`, `Candy Hearts`) to Winter "
     ]
    },
    {
     "cell_type": "code",
     "collapsed": false,
     "input": [],
     "language": "python",
     "metadata": {},
     "outputs": []
    },
    {
     "cell_type": "markdown",
     "metadata": {},
     "source": [
      "Write code that will collect all Winter supplies from all the winter holidays and put them into a list"
     ]
    },
    {
     "cell_type": "code",
     "collapsed": false,
     "input": [],
     "language": "python",
     "metadata": {},
     "outputs": [],
     "prompt_number": 3
    },
    {
     "cell_type": "markdown",
     "metadata": {},
     "source": [
      "Write code that will collect all holidays with  a BBQ and put them into a list"
     ]
    },
    {
     "cell_type": "code",
     "collapsed": false,
     "input": [],
     "language": "python",
     "metadata": {},
     "outputs": []
    }
   ],
   "metadata": {}
  }
 ]
}